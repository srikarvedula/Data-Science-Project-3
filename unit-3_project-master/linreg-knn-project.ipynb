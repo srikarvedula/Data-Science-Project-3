{
 "cells": [
  {
   "cell_type": "markdown",
   "metadata": {},
   "source": [
    "<img src=\"http://imgur.com/1ZcRyrc.png\" style=\"float: left; margin: 20px; height: 55px\">\n",
    "\n",
    "# Project 3: Linear Regression and KNN - Train/Test Split\n",
    "\n",
    "---"
   ]
  },
  {
   "cell_type": "markdown",
   "metadata": {},
   "source": [
    "# Introduction\n",
    "\n",
    "We've discussed overfitting in the context of bias and variance, and we've touched on some techniques, such as regularization, that are used to avoid overfitting (but haven't practiced them yet). In this lesson we'll discuss a fundamental method for avoiding overfitting that is commonly referred to as _train/test split_ validation. \n",
    "\n",
    "The idea is similar to something called \"cross-validation\" — in fact, it is a type of cross-validation — in that we split the data set into two subsets:\n",
    "* A subset on which to train our model.\n",
    "* A subset on which to test our model's predictions.\n",
    "\n",
    "This serves two useful purposes:\n",
    "* We prevent overfitting by not using all of the data.\n",
    "* We have some remaining data we can use to evaluate our model.\n",
    "\n",
    "While this may seem like a relatively simple idea, **there are some caveats** to putting it into practice. For example, if you are not careful, it is easy to take a non-random split. Suppose we have salary data on technical professionals that is composed of 80 percent data from California and 20 percent data from elsewhere and is sorted by state. If we split our data into 80 percent training data and 20 percent testing data, we might inadvertantly select all the California data to train and all the non-California data to test. In this case we've still overfit on our data set because we did not sufficiently randomize the data.\n",
    "\n",
    "In a situation like this we can use _k-fold cross-validation_, which is the same idea applied to more than two subsets. In particular, we partition our data into $k$ subsets and train on $k-1$ one of them, holding the last slice for testing. We can do this for each of the possible $k-1$ subsets."
   ]
  },
  {
   "cell_type": "markdown",
   "metadata": {},
   "source": [
    "# Independent Practice\n",
    "\n",
    "Ultimately we use a test-training split to compare multiple models on the same data set. This could be comparisons of two linear models or of completely different models on the same data.\n",
    "\n",
    "For your independent practice, fit three different models on the Boston housing data. For example, you could pick three different subsets of variables, one or more polynomial models, or any other model you'd like. \n",
    "\n",
    "### Here's What We Will Be Doing:\n",
    "\n",
    "* Working with Boston housing data to predict the value of a home\n",
    "* Create a test-train split of the data.\n",
    "* Train each of your models on the training data.\n",
    "* Evaluate each of the models on the test data.\n",
    "* Rank the models by how well they score on the testing data set.\n",
    "\n",
    "**Then, try k-folds.**\n",
    "\n",
    "* Try a few different splits of data for the same models.\n",
    "* Perform a k-fold cross-validation and use the cross-validation scores to compare your models. Did this change your rankings?\n",
    "\n",
    "**Be sure to provide interpretation for your results.**"
   ]
  },
  {
   "cell_type": "markdown",
   "metadata": {},
   "source": [
    "Recall that k-fold cross-validation creates a hold portion of your data set for each iteration of training and validating:\n",
    "\n",
    "![](http://i.imgur.com/0PFrPXJ.png)"
   ]
  },
  {
   "cell_type": "markdown",
   "metadata": {},
   "source": [
    "## Linear Regression Use Case\n",
    "\n",
    "In this given task, you will be asked to model the median home price of various houses across U.S. Census tracts in the city of Boston. This is a probable use case: We are predicting a continuous, numeric output (price) based on a combination of discrete features."
   ]
  },
  {
   "cell_type": "code",
   "execution_count": 4,
   "metadata": {},
   "outputs": [
    {
     "name": "stderr",
     "output_type": "stream",
     "text": [
      "UsageError: Line magic function `%` not found.\n"
     ]
    }
   ],
   "source": [
    "import matplotlib.pyplot as plt\n",
    "\n",
    "% matplotlib inline"
   ]
  },
  {
   "cell_type": "code",
   "execution_count": 5,
   "metadata": {},
   "outputs": [
    {
     "name": "stdout",
     "output_type": "stream",
     "text": [
      ".. _boston_dataset:\n",
      "\n",
      "Boston house prices dataset\n",
      "---------------------------\n",
      "\n",
      "**Data Set Characteristics:**  \n",
      "\n",
      "    :Number of Instances: 506 \n",
      "\n",
      "    :Number of Attributes: 13 numeric/categorical predictive. Median Value (attribute 14) is usually the target.\n",
      "\n",
      "    :Attribute Information (in order):\n",
      "        - CRIM     per capita crime rate by town\n",
      "        - ZN       proportion of residential land zoned for lots over 25,000 sq.ft.\n",
      "        - INDUS    proportion of non-retail business acres per town\n",
      "        - CHAS     Charles River dummy variable (= 1 if tract bounds river; 0 otherwise)\n",
      "        - NOX      nitric oxides concentration (parts per 10 million)\n",
      "        - RM       average number of rooms per dwelling\n",
      "        - AGE      proportion of owner-occupied units built prior to 1940\n",
      "        - DIS      weighted distances to five Boston employment centres\n",
      "        - RAD      index of accessibility to radial highways\n",
      "        - TAX      full-value property-tax rate per $10,000\n",
      "        - PTRATIO  pupil-teacher ratio by town\n",
      "        - B        1000(Bk - 0.63)^2 where Bk is the proportion of blacks by town\n",
      "        - LSTAT    % lower status of the population\n",
      "        - MEDV     Median value of owner-occupied homes in $1000's\n",
      "\n",
      "    :Missing Attribute Values: None\n",
      "\n",
      "    :Creator: Harrison, D. and Rubinfeld, D.L.\n",
      "\n",
      "This is a copy of UCI ML housing dataset.\n",
      "https://archive.ics.uci.edu/ml/machine-learning-databases/housing/\n",
      "\n",
      "\n",
      "This dataset was taken from the StatLib library which is maintained at Carnegie Mellon University.\n",
      "\n",
      "The Boston house-price data of Harrison, D. and Rubinfeld, D.L. 'Hedonic\n",
      "prices and the demand for clean air', J. Environ. Economics & Management,\n",
      "vol.5, 81-102, 1978.   Used in Belsley, Kuh & Welsch, 'Regression diagnostics\n",
      "...', Wiley, 1980.   N.B. Various transformations are used in the table on\n",
      "pages 244-261 of the latter.\n",
      "\n",
      "The Boston house-price data has been used in many machine learning papers that address regression\n",
      "problems.   \n",
      "     \n",
      ".. topic:: References\n",
      "\n",
      "   - Belsley, Kuh & Welsch, 'Regression diagnostics: Identifying Influential Data and Sources of Collinearity', Wiley, 1980. 244-261.\n",
      "   - Quinlan,R. (1993). Combining Instance-Based and Model-Based Learning. In Proceedings on the Tenth International Conference of Machine Learning, 236-243, University of Massachusetts, Amherst. Morgan Kaufmann.\n",
      "\n"
     ]
    }
   ],
   "source": [
    "import pandas as pd\n",
    "import numpy as np\n",
    "from sklearn.datasets import load_boston\n",
    "\n",
    "boston = load_boston()\n",
    "\n",
    "X = pd.DataFrame(boston.data,\n",
    "                 columns=boston.feature_names)\n",
    "y = pd.DataFrame(boston.target,\n",
    "                 columns=['MEDV'])\n",
    "\n",
    "print(boston['DESCR'])"
   ]
  },
  {
   "cell_type": "markdown",
   "metadata": {},
   "source": [
    "### 1. Clean Up Data and Perform Exporatory Data Analysis"
   ]
  },
  {
   "cell_type": "markdown",
   "metadata": {
    "collapsed": true
   },
   "source": [
    "Boston data is from scikit-learn, so it ought to be pretty clean, but we should always perform exploratory data analysis."
   ]
  },
  {
   "cell_type": "code",
   "execution_count": 6,
   "metadata": {},
   "outputs": [
    {
     "data": {
      "text/plain": [
       "(506, 13)"
      ]
     },
     "execution_count": 6,
     "metadata": {},
     "output_type": "execute_result"
    }
   ],
   "source": [
    "# Exploratory data analysis.\n",
    "\n",
    "# Include: total nulls, index, data types, shape, summary statistics, and the number of unique values for each column\n",
    "X.shape"
   ]
  },
  {
   "cell_type": "code",
   "execution_count": 7,
   "metadata": {},
   "outputs": [
    {
     "data": {
      "text/plain": [
       "CRIM       0\n",
       "ZN         0\n",
       "INDUS      0\n",
       "CHAS       0\n",
       "NOX        0\n",
       "RM         0\n",
       "AGE        0\n",
       "DIS        0\n",
       "RAD        0\n",
       "TAX        0\n",
       "PTRATIO    0\n",
       "B          0\n",
       "LSTAT      0\n",
       "dtype: int64"
      ]
     },
     "execution_count": 7,
     "metadata": {},
     "output_type": "execute_result"
    }
   ],
   "source": [
    "X.isnull().sum() #no nulls"
   ]
  },
  {
   "cell_type": "code",
   "execution_count": 8,
   "metadata": {},
   "outputs": [
    {
     "data": {
      "text/html": [
       "<div>\n",
       "<style scoped>\n",
       "    .dataframe tbody tr th:only-of-type {\n",
       "        vertical-align: middle;\n",
       "    }\n",
       "\n",
       "    .dataframe tbody tr th {\n",
       "        vertical-align: top;\n",
       "    }\n",
       "\n",
       "    .dataframe thead th {\n",
       "        text-align: right;\n",
       "    }\n",
       "</style>\n",
       "<table border=\"1\" class=\"dataframe\">\n",
       "  <thead>\n",
       "    <tr style=\"text-align: right;\">\n",
       "      <th></th>\n",
       "      <th>CRIM</th>\n",
       "      <th>ZN</th>\n",
       "      <th>INDUS</th>\n",
       "      <th>CHAS</th>\n",
       "      <th>NOX</th>\n",
       "      <th>RM</th>\n",
       "      <th>AGE</th>\n",
       "      <th>DIS</th>\n",
       "      <th>RAD</th>\n",
       "      <th>TAX</th>\n",
       "      <th>PTRATIO</th>\n",
       "      <th>B</th>\n",
       "      <th>LSTAT</th>\n",
       "    </tr>\n",
       "  </thead>\n",
       "  <tbody>\n",
       "    <tr>\n",
       "      <th>count</th>\n",
       "      <td>506.000000</td>\n",
       "      <td>506.000000</td>\n",
       "      <td>506.000000</td>\n",
       "      <td>506.000000</td>\n",
       "      <td>506.000000</td>\n",
       "      <td>506.000000</td>\n",
       "      <td>506.000000</td>\n",
       "      <td>506.000000</td>\n",
       "      <td>506.000000</td>\n",
       "      <td>506.000000</td>\n",
       "      <td>506.000000</td>\n",
       "      <td>506.000000</td>\n",
       "      <td>506.000000</td>\n",
       "    </tr>\n",
       "    <tr>\n",
       "      <th>mean</th>\n",
       "      <td>3.613524</td>\n",
       "      <td>11.363636</td>\n",
       "      <td>11.136779</td>\n",
       "      <td>0.069170</td>\n",
       "      <td>0.554695</td>\n",
       "      <td>6.284634</td>\n",
       "      <td>68.574901</td>\n",
       "      <td>3.795043</td>\n",
       "      <td>9.549407</td>\n",
       "      <td>408.237154</td>\n",
       "      <td>18.455534</td>\n",
       "      <td>356.674032</td>\n",
       "      <td>12.653063</td>\n",
       "    </tr>\n",
       "    <tr>\n",
       "      <th>std</th>\n",
       "      <td>8.601545</td>\n",
       "      <td>23.322453</td>\n",
       "      <td>6.860353</td>\n",
       "      <td>0.253994</td>\n",
       "      <td>0.115878</td>\n",
       "      <td>0.702617</td>\n",
       "      <td>28.148861</td>\n",
       "      <td>2.105710</td>\n",
       "      <td>8.707259</td>\n",
       "      <td>168.537116</td>\n",
       "      <td>2.164946</td>\n",
       "      <td>91.294864</td>\n",
       "      <td>7.141062</td>\n",
       "    </tr>\n",
       "    <tr>\n",
       "      <th>min</th>\n",
       "      <td>0.006320</td>\n",
       "      <td>0.000000</td>\n",
       "      <td>0.460000</td>\n",
       "      <td>0.000000</td>\n",
       "      <td>0.385000</td>\n",
       "      <td>3.561000</td>\n",
       "      <td>2.900000</td>\n",
       "      <td>1.129600</td>\n",
       "      <td>1.000000</td>\n",
       "      <td>187.000000</td>\n",
       "      <td>12.600000</td>\n",
       "      <td>0.320000</td>\n",
       "      <td>1.730000</td>\n",
       "    </tr>\n",
       "    <tr>\n",
       "      <th>25%</th>\n",
       "      <td>0.082045</td>\n",
       "      <td>0.000000</td>\n",
       "      <td>5.190000</td>\n",
       "      <td>0.000000</td>\n",
       "      <td>0.449000</td>\n",
       "      <td>5.885500</td>\n",
       "      <td>45.025000</td>\n",
       "      <td>2.100175</td>\n",
       "      <td>4.000000</td>\n",
       "      <td>279.000000</td>\n",
       "      <td>17.400000</td>\n",
       "      <td>375.377500</td>\n",
       "      <td>6.950000</td>\n",
       "    </tr>\n",
       "    <tr>\n",
       "      <th>50%</th>\n",
       "      <td>0.256510</td>\n",
       "      <td>0.000000</td>\n",
       "      <td>9.690000</td>\n",
       "      <td>0.000000</td>\n",
       "      <td>0.538000</td>\n",
       "      <td>6.208500</td>\n",
       "      <td>77.500000</td>\n",
       "      <td>3.207450</td>\n",
       "      <td>5.000000</td>\n",
       "      <td>330.000000</td>\n",
       "      <td>19.050000</td>\n",
       "      <td>391.440000</td>\n",
       "      <td>11.360000</td>\n",
       "    </tr>\n",
       "    <tr>\n",
       "      <th>75%</th>\n",
       "      <td>3.677083</td>\n",
       "      <td>12.500000</td>\n",
       "      <td>18.100000</td>\n",
       "      <td>0.000000</td>\n",
       "      <td>0.624000</td>\n",
       "      <td>6.623500</td>\n",
       "      <td>94.075000</td>\n",
       "      <td>5.188425</td>\n",
       "      <td>24.000000</td>\n",
       "      <td>666.000000</td>\n",
       "      <td>20.200000</td>\n",
       "      <td>396.225000</td>\n",
       "      <td>16.955000</td>\n",
       "    </tr>\n",
       "    <tr>\n",
       "      <th>max</th>\n",
       "      <td>88.976200</td>\n",
       "      <td>100.000000</td>\n",
       "      <td>27.740000</td>\n",
       "      <td>1.000000</td>\n",
       "      <td>0.871000</td>\n",
       "      <td>8.780000</td>\n",
       "      <td>100.000000</td>\n",
       "      <td>12.126500</td>\n",
       "      <td>24.000000</td>\n",
       "      <td>711.000000</td>\n",
       "      <td>22.000000</td>\n",
       "      <td>396.900000</td>\n",
       "      <td>37.970000</td>\n",
       "    </tr>\n",
       "  </tbody>\n",
       "</table>\n",
       "</div>"
      ],
      "text/plain": [
       "             CRIM          ZN       INDUS        CHAS         NOX          RM  \\\n",
       "count  506.000000  506.000000  506.000000  506.000000  506.000000  506.000000   \n",
       "mean     3.613524   11.363636   11.136779    0.069170    0.554695    6.284634   \n",
       "std      8.601545   23.322453    6.860353    0.253994    0.115878    0.702617   \n",
       "min      0.006320    0.000000    0.460000    0.000000    0.385000    3.561000   \n",
       "25%      0.082045    0.000000    5.190000    0.000000    0.449000    5.885500   \n",
       "50%      0.256510    0.000000    9.690000    0.000000    0.538000    6.208500   \n",
       "75%      3.677083   12.500000   18.100000    0.000000    0.624000    6.623500   \n",
       "max     88.976200  100.000000   27.740000    1.000000    0.871000    8.780000   \n",
       "\n",
       "              AGE         DIS         RAD         TAX     PTRATIO           B  \\\n",
       "count  506.000000  506.000000  506.000000  506.000000  506.000000  506.000000   \n",
       "mean    68.574901    3.795043    9.549407  408.237154   18.455534  356.674032   \n",
       "std     28.148861    2.105710    8.707259  168.537116    2.164946   91.294864   \n",
       "min      2.900000    1.129600    1.000000  187.000000   12.600000    0.320000   \n",
       "25%     45.025000    2.100175    4.000000  279.000000   17.400000  375.377500   \n",
       "50%     77.500000    3.207450    5.000000  330.000000   19.050000  391.440000   \n",
       "75%     94.075000    5.188425   24.000000  666.000000   20.200000  396.225000   \n",
       "max    100.000000   12.126500   24.000000  711.000000   22.000000  396.900000   \n",
       "\n",
       "            LSTAT  \n",
       "count  506.000000  \n",
       "mean    12.653063  \n",
       "std      7.141062  \n",
       "min      1.730000  \n",
       "25%      6.950000  \n",
       "50%     11.360000  \n",
       "75%     16.955000  \n",
       "max     37.970000  "
      ]
     },
     "execution_count": 8,
     "metadata": {},
     "output_type": "execute_result"
    }
   ],
   "source": [
    "X.describe()"
   ]
  },
  {
   "cell_type": "code",
   "execution_count": 9,
   "metadata": {},
   "outputs": [
    {
     "data": {
      "text/plain": [
       "CRIM       float64\n",
       "ZN         float64\n",
       "INDUS      float64\n",
       "CHAS       float64\n",
       "NOX        float64\n",
       "RM         float64\n",
       "AGE        float64\n",
       "DIS        float64\n",
       "RAD        float64\n",
       "TAX        float64\n",
       "PTRATIO    float64\n",
       "B          float64\n",
       "LSTAT      float64\n",
       "dtype: object"
      ]
     },
     "execution_count": 9,
     "metadata": {},
     "output_type": "execute_result"
    }
   ],
   "source": [
    "X.dtypes"
   ]
  },
  {
   "cell_type": "code",
   "execution_count": 10,
   "metadata": {},
   "outputs": [
    {
     "data": {
      "text/plain": [
       "RangeIndex(start=0, stop=506, step=1)"
      ]
     },
     "execution_count": 10,
     "metadata": {},
     "output_type": "execute_result"
    }
   ],
   "source": [
    "X.index"
   ]
  },
  {
   "cell_type": "code",
   "execution_count": 11,
   "metadata": {},
   "outputs": [
    {
     "data": {
      "text/html": [
       "<div>\n",
       "<style scoped>\n",
       "    .dataframe tbody tr th:only-of-type {\n",
       "        vertical-align: middle;\n",
       "    }\n",
       "\n",
       "    .dataframe tbody tr th {\n",
       "        vertical-align: top;\n",
       "    }\n",
       "\n",
       "    .dataframe thead th {\n",
       "        text-align: right;\n",
       "    }\n",
       "</style>\n",
       "<table border=\"1\" class=\"dataframe\">\n",
       "  <thead>\n",
       "    <tr style=\"text-align: right;\">\n",
       "      <th></th>\n",
       "      <th>CRIM</th>\n",
       "      <th>ZN</th>\n",
       "      <th>INDUS</th>\n",
       "      <th>CHAS</th>\n",
       "      <th>NOX</th>\n",
       "      <th>RM</th>\n",
       "      <th>AGE</th>\n",
       "      <th>DIS</th>\n",
       "      <th>RAD</th>\n",
       "      <th>TAX</th>\n",
       "      <th>PTRATIO</th>\n",
       "      <th>B</th>\n",
       "      <th>LSTAT</th>\n",
       "    </tr>\n",
       "  </thead>\n",
       "  <tbody>\n",
       "    <tr>\n",
       "      <th>0</th>\n",
       "      <td>0.00632</td>\n",
       "      <td>18.0</td>\n",
       "      <td>2.31</td>\n",
       "      <td>0.0</td>\n",
       "      <td>0.538</td>\n",
       "      <td>6.575</td>\n",
       "      <td>65.2</td>\n",
       "      <td>4.0900</td>\n",
       "      <td>1.0</td>\n",
       "      <td>296.0</td>\n",
       "      <td>15.3</td>\n",
       "      <td>396.90</td>\n",
       "      <td>4.98</td>\n",
       "    </tr>\n",
       "    <tr>\n",
       "      <th>1</th>\n",
       "      <td>0.02731</td>\n",
       "      <td>0.0</td>\n",
       "      <td>7.07</td>\n",
       "      <td>0.0</td>\n",
       "      <td>0.469</td>\n",
       "      <td>6.421</td>\n",
       "      <td>78.9</td>\n",
       "      <td>4.9671</td>\n",
       "      <td>2.0</td>\n",
       "      <td>242.0</td>\n",
       "      <td>17.8</td>\n",
       "      <td>396.90</td>\n",
       "      <td>9.14</td>\n",
       "    </tr>\n",
       "    <tr>\n",
       "      <th>2</th>\n",
       "      <td>0.02729</td>\n",
       "      <td>0.0</td>\n",
       "      <td>7.07</td>\n",
       "      <td>0.0</td>\n",
       "      <td>0.469</td>\n",
       "      <td>7.185</td>\n",
       "      <td>61.1</td>\n",
       "      <td>4.9671</td>\n",
       "      <td>2.0</td>\n",
       "      <td>242.0</td>\n",
       "      <td>17.8</td>\n",
       "      <td>392.83</td>\n",
       "      <td>4.03</td>\n",
       "    </tr>\n",
       "    <tr>\n",
       "      <th>3</th>\n",
       "      <td>0.03237</td>\n",
       "      <td>0.0</td>\n",
       "      <td>2.18</td>\n",
       "      <td>0.0</td>\n",
       "      <td>0.458</td>\n",
       "      <td>6.998</td>\n",
       "      <td>45.8</td>\n",
       "      <td>6.0622</td>\n",
       "      <td>3.0</td>\n",
       "      <td>222.0</td>\n",
       "      <td>18.7</td>\n",
       "      <td>394.63</td>\n",
       "      <td>2.94</td>\n",
       "    </tr>\n",
       "    <tr>\n",
       "      <th>4</th>\n",
       "      <td>0.06905</td>\n",
       "      <td>0.0</td>\n",
       "      <td>2.18</td>\n",
       "      <td>0.0</td>\n",
       "      <td>0.458</td>\n",
       "      <td>7.147</td>\n",
       "      <td>54.2</td>\n",
       "      <td>6.0622</td>\n",
       "      <td>3.0</td>\n",
       "      <td>222.0</td>\n",
       "      <td>18.7</td>\n",
       "      <td>396.90</td>\n",
       "      <td>5.33</td>\n",
       "    </tr>\n",
       "  </tbody>\n",
       "</table>\n",
       "</div>"
      ],
      "text/plain": [
       "      CRIM    ZN  INDUS  CHAS    NOX     RM   AGE     DIS  RAD    TAX  \\\n",
       "0  0.00632  18.0   2.31   0.0  0.538  6.575  65.2  4.0900  1.0  296.0   \n",
       "1  0.02731   0.0   7.07   0.0  0.469  6.421  78.9  4.9671  2.0  242.0   \n",
       "2  0.02729   0.0   7.07   0.0  0.469  7.185  61.1  4.9671  2.0  242.0   \n",
       "3  0.03237   0.0   2.18   0.0  0.458  6.998  45.8  6.0622  3.0  222.0   \n",
       "4  0.06905   0.0   2.18   0.0  0.458  7.147  54.2  6.0622  3.0  222.0   \n",
       "\n",
       "   PTRATIO       B  LSTAT  \n",
       "0     15.3  396.90   4.98  \n",
       "1     17.8  396.90   9.14  \n",
       "2     17.8  392.83   4.03  \n",
       "3     18.7  394.63   2.94  \n",
       "4     18.7  396.90   5.33  "
      ]
     },
     "execution_count": 11,
     "metadata": {},
     "output_type": "execute_result"
    }
   ],
   "source": [
    "X.head()"
   ]
  },
  {
   "cell_type": "code",
   "execution_count": 12,
   "metadata": {},
   "outputs": [
    {
     "data": {
      "text/plain": [
       "CRIM       504\n",
       "ZN          26\n",
       "INDUS       76\n",
       "CHAS         2\n",
       "NOX         81\n",
       "RM         446\n",
       "AGE        356\n",
       "DIS        412\n",
       "RAD          9\n",
       "TAX         66\n",
       "PTRATIO     46\n",
       "B          357\n",
       "LSTAT      455\n",
       "dtype: int64"
      ]
     },
     "execution_count": 12,
     "metadata": {},
     "output_type": "execute_result"
    }
   ],
   "source": [
    "X.apply(lambda x: x.nunique())"
   ]
  },
  {
   "cell_type": "markdown",
   "metadata": {},
   "source": [
    "## Using `scikit-learn` Linear Regression\n",
    "\n",
    "### 2. Pick 3-4 predictors (i.e. CRIM, ZN, etc...) that you will use to predict our target variable, MEDV.\n",
    "Score and plot your predictions. What do these results tell us?"
   ]
  },
  {
   "cell_type": "code",
   "execution_count": 13,
   "metadata": {},
   "outputs": [],
   "source": [
    "import seaborn as sns\n",
    "from sklearn.linear_model import LinearRegression\n"
   ]
  },
  {
   "cell_type": "code",
   "execution_count": 14,
   "metadata": {},
   "outputs": [
    {
     "name": "stdout",
     "output_type": "stream",
     "text": [
      "27.394646776287644\n",
      "[-0.24862831  0.05850082 -0.41557782]\n"
     ]
    }
   ],
   "source": [
    "feature_cols = ['CRIM', 'ZN', 'INDUS'] \n",
    "\n",
    "X = X[feature_cols]\n",
    "y = boston.target\n",
    "\n",
    "linreg = LinearRegression()\n",
    "linreg.fit(X, y)\n",
    "print(linreg.intercept_)\n",
    "print(linreg.coef_)"
   ]
  },
  {
   "cell_type": "markdown",
   "metadata": {},
   "source": [
    "### 3. Try 70/30 and 90/10 train/test splits (70% of the data for training - 30% for testing, then 90% for training - 10% for testing)\n",
    "Score and plot. How do your metrics change? What does this tell us about the size of training/testing splits?"
   ]
  },
  {
   "cell_type": "code",
   "execution_count": 15,
   "metadata": {},
   "outputs": [
    {
     "name": "stdout",
     "output_type": "stream",
     "text": [
      "         CRIM    ZN  INDUS\n",
      "463   5.82115   0.0  18.10\n",
      "75    0.09512   0.0  12.83\n",
      "478  10.23300   0.0  18.10\n",
      "199   0.03150  95.0   1.47\n",
      "84    0.05059   0.0   4.49\n",
      "391   5.29305   0.0  18.10\n",
      "500   0.22438   0.0   9.69\n",
      "126   0.38735   0.0  25.65\n",
      "484   2.37857   0.0  18.10\n",
      "227   0.41238   0.0   6.20\n",
      "481   5.70818   0.0  18.10\n",
      "408   7.40389   0.0  18.10\n",
      "64    0.01951  17.5   1.38\n",
      "5     0.02985   0.0   2.18\n",
      "366   3.69695   0.0  18.10\n",
      "271   0.16211  20.0   6.96\n",
      "355   0.10659  80.0   1.91\n",
      "127   0.25915   0.0  21.89\n",
      "217   0.07013   0.0  13.89\n",
      "285   0.01096  55.0   2.25\n",
      "339   0.05497   0.0   5.19\n",
      "189   0.08370  45.0   3.44\n",
      "80    0.04113  25.0   4.86\n",
      "329   0.06724   0.0   3.24\n",
      "174   0.08447   0.0   4.05\n",
      "356   8.98296   0.0  18.10\n",
      "234   0.44791   0.0   6.20\n",
      "45    0.17142   0.0   6.91\n",
      "190   0.09068  45.0   3.44\n",
      "441   9.72418   0.0  18.10\n",
      "..        ...   ...    ...\n",
      "364   3.47428   0.0  18.10\n",
      "155   3.53501   0.0  19.58\n",
      "386  24.39380   0.0  18.10\n",
      "86    0.05188   0.0   4.49\n",
      "93    0.02875  28.0  15.04\n",
      "137   0.35233   0.0  21.89\n",
      "400  25.04610   0.0  18.10\n",
      "58    0.15445  25.0   5.13\n",
      "316   0.31827   0.0   9.90\n",
      "363   4.22239   0.0  18.10\n",
      "228   0.29819   0.0   6.20\n",
      "143   4.09740   0.0  19.58\n",
      "504   0.10959   0.0  11.93\n",
      "240   0.11329  30.0   4.93\n",
      "290   0.03502  80.0   4.95\n",
      "14    0.63796   0.0   8.14\n",
      "226   0.38214   0.0   6.20\n",
      "66    0.04379  80.0   3.37\n",
      "53    0.04981  21.0   5.64\n",
      "354   0.04301  80.0   1.91\n",
      "436  14.42080   0.0  18.10\n",
      "350   0.06211  40.0   1.25\n",
      "394  13.35980   0.0  18.10\n",
      "432   6.44405   0.0  18.10\n",
      "79    0.08387   0.0  12.83\n",
      "343   0.02543  55.0   3.78\n",
      "359   4.26131   0.0  18.10\n",
      "323   0.28392   0.0   7.38\n",
      "280   0.03578  20.0   3.33\n",
      "8     0.21124  12.5   7.87\n",
      "\n",
      "[354 rows x 3 columns]          CRIM    ZN  INDUS\n",
      "198   0.03768  80.0   1.52\n",
      "229   0.44178   0.0   6.20\n",
      "502   0.04527   0.0  11.93\n",
      "31    1.35472   0.0   8.14\n",
      "315   0.25356   0.0   9.90\n",
      "169   2.44953   0.0  19.58\n",
      "111   0.10084   0.0  10.01\n",
      "206   0.22969   0.0  10.59\n",
      "108   0.12802   0.0   8.56\n",
      "420  11.08740   0.0  18.10\n",
      "287   0.03871  52.5   5.32\n",
      "390   6.96215   0.0  18.10\n",
      "29    1.00245   0.0   8.14\n",
      "54    0.01360  75.0   4.00\n",
      "203   0.03510  95.0   2.68\n",
      "351   0.07950  60.0   1.69\n",
      "298   0.06466  70.0   2.24\n",
      "310   2.63548   0.0   9.90\n",
      "197   0.04666  80.0   1.52\n",
      "163   1.51902   0.0  19.58\n",
      "260   0.54011  20.0   3.97\n",
      "380  88.97620   0.0  18.10\n",
      "118   0.13058   0.0  10.01\n",
      "421   7.02259   0.0  18.10\n",
      "440  22.05110   0.0  18.10\n",
      "456   4.66883   0.0  18.10\n",
      "348   0.01501  80.0   2.01\n",
      "476   4.87141   0.0  18.10\n",
      "469  13.07510   0.0  18.10\n",
      "331   0.05023  35.0   6.06\n",
      "..        ...   ...    ...\n",
      "483   2.81838   0.0  18.10\n",
      "321   0.18159   0.0   7.38\n",
      "104   0.13960   0.0   8.56\n",
      "142   3.32105   0.0  19.58\n",
      "152   1.12658   0.0  19.58\n",
      "459   6.80117   0.0  18.10\n",
      "46    0.18836   0.0   6.91\n",
      "50    0.08873  21.0   5.64\n",
      "308   0.49298   0.0   9.90\n",
      "19    0.72580   0.0   8.14\n",
      "239   0.09252  30.0   4.93\n",
      "28    0.77299   0.0   8.14\n",
      "219   0.11425   0.0  13.89\n",
      "195   0.01381  80.0   0.46\n",
      "495   0.17899   0.0   9.69\n",
      "216   0.04560   0.0  13.89\n",
      "479  14.33370   0.0  18.10\n",
      "96    0.11504   0.0   2.89\n",
      "33    1.15172   0.0   8.14\n",
      "489   0.18337   0.0  27.74\n",
      "129   0.88125   0.0  21.89\n",
      "344   0.03049  55.0   3.78\n",
      "191   0.06911  45.0   3.44\n",
      "21    0.85204   0.0   8.14\n",
      "371   9.23230   0.0  18.10\n",
      "272   0.11460  20.0   6.96\n",
      "124   0.09849   0.0  25.65\n",
      "178   0.06642   0.0   4.05\n",
      "447   9.92485   0.0  18.10\n",
      "282   0.06129  20.0   3.33\n",
      "\n",
      "[152 rows x 3 columns] [20.2 21.4 14.6 34.9 23.9 23.2 16.8 15.7 20.6 31.6 23.7 17.2 33.  28.7\n",
      " 21.9 25.2 20.6 16.2 28.7 22.  19.  34.9 28.  22.6 22.6 17.8 29.  19.3\n",
      " 37.  17.1 18.6 22.8 19.8 14.8 21.7 24.3 43.5 20.3 26.4 20.8 13.8 16.1\n",
      " 31.7 15.6 14.4  5.  50.  16.4 20.  15.2 22.2 25.1 19.2 32.  19.9 14.1\n",
      " 18.7 12.3 22.3 31.  20.5 23.3 13.4 13.9 23.6 16.6 18.5 19.4 11.9 19.6\n",
      " 19.6 23.6 27.9 29.8 50.  17.5 20.3 36.1 21.7 10.8 23.1 23.1 20.1 23.\n",
      " 14.6 16.6 33.2 18.9 11.9 30.8 50.  25.  24.6 11.3 48.3 15.  23.9 21.9\n",
      " 30.1 13.8 10.2 23.5 18.4 21.2 21.6 50.  32.  18.  13.1 12.1 15.  28.4\n",
      " 20.7 24.8 13.2 27.9 17.3 23.  21.7 16.3 19.9 18.3 18.3 26.6 24.1 22.7\n",
      " 25.  17.8 17.2 50.  24.6 21.  10.4  8.4 36.  18.7 24.4 18.8 24.3 24.5\n",
      " 25.3 22.9  7.4 20.6  5.   8.4 17.7 19.9 11.7 22.2 37.2 22.2 29.1 15.2\n",
      " 26.5 18.9 13.9 20.6 29.1 35.4 23.9 23.2 24.8 13.1 17.8 11.8 24.1 44.8\n",
      " 13.3 21.5 13.1 13.8 17.9 19.2 13.4 14.9 21.4 21.7 32.2 15.6 23.8 17.8\n",
      "  9.7 13.6 13.8 20.8 25.  13.5 11.8 20.4 37.9 41.7 23.4 11.5 31.6 19.6\n",
      " 21.2 22.9 26.6 15.6 32.9 36.5 13.3 33.2 30.1 26.7 22.  19.4 16.5 21.7\n",
      " 23.1 37.3 28.7 22.  14.3 23.7 21.8 20.1 28.2 27.5 20.4 28.6 50.  21.2\n",
      " 20.5 22.7 25.  48.8 33.1 18.9 42.8 33.4 33.3 20.3 25.  14.9 24.4 44.\n",
      " 18.6 23.8 24.8 20.  19.3 31.5 18.5 28.4 18.7 17.4 20.1 20.6 23.7 24.7\n",
      " 22.2 43.1 20.  29.  39.8 23.2 19.9  7.5 25.  21.2 22.5 22.4 13.4 24.2\n",
      " 19.6 20.8 29.6 19.5 24.  20.7 13.  23.1 17.4 24.5 17.5 12.7 19.5 20.4\n",
      " 22.8 35.2 42.3  8.8 36.4 32.4 23.1 21.7 27.5 23.8 33.1 17.5  7.  50.\n",
      " 23.7 19.4 50.  36.2 25.   8.3 19.5 13.3 34.7 19.5 24.8 14.1 32.5 21.1\n",
      " 19.8 31.1 14.1 19.4 18.1 23.9 15.4 22.  36.2 27.5 19.3 18.5 14.4  7.2\n",
      "  7.2 10.2 21.9 15.6 10.5 22.5 25.  17.1  5.6 23.3 17.8 16.8 46.7 15.6\n",
      " 22.  22.  28.5 18.2 37.6 19.4 23.4 18.2  9.6 22.9 12.7 16.1 20.3 23.9\n",
      " 22.6 18.5 45.4 16.5] [34.6 31.5 20.6 14.5 16.2 22.3 22.8 24.4 19.8 16.7 23.2 15.1 21.  18.9\n",
      " 48.5 24.1 22.5 16.1 30.3 50.  33.8 10.4 20.4 14.2 10.5 12.7 24.5 16.7\n",
      " 20.1 17.1 18.4 24.3 50.  23.8 30.7 33.4 15.  10.9 19.1 21.  22.9 22.4\n",
      " 19.  19.3 27.  27.1 19.1 15.4 19.1 13.5 20.9 19.3 20.5 26.2 12.  19.7\n",
      " 29.6 34.9  8.3 21.2 14.5 27.5 19.4 32.7 21.1 28.1 17.4 30.1 21.4 20.9\n",
      " 10.9 21.7  8.8 15.2 26.6  8.7 24.7 38.7  6.3 22.6 43.8 50.  14.5 11.7\n",
      " 12.5 13.6 21.5 19.1  9.5 17.2 29.8 22.6 21.6 22.2 27.1 17.  22.  50.\n",
      "  7.2 50.  14.  11.  10.2 22.1 41.3 17.6 24.7  8.5  8.1 26.4 23.  35.1\n",
      " 35.4 12.8 24.  20.2 29.4 16.  50.   8.5 14.9 13.8 21.8 23.1 20.1 13.4\n",
      " 15.3 20.  20.  19.7 22.8 18.2 23.3 18.4 23.  50.  23.1 23.3 21.4 21.4\n",
      " 13.1  7.  14.3 31.2 30.5 19.6 50.  24.4 18.8 29.9 12.6 46. ]\n"
     ]
    },
    {
     "name": "stderr",
     "output_type": "stream",
     "text": [
      "C:\\ProgramData\\Anaconda3\\lib\\site-packages\\sklearn\\model_selection\\_split.py:2179: FutureWarning: From version 0.21, test_size will always complement train_size unless both are specified.\n",
      "  FutureWarning)\n"
     ]
    }
   ],
   "source": [
    "from sklearn.model_selection import train_test_split\n",
    "from sklearn import metrics\n",
    "X_train, X_test, y_train, y_test=train_test_split(X,y,train_size=0.7,random_state=100)\n",
    "linreg=LinearRegression()\n",
    "linreg.fit(X_train,y_train)\n",
    "print(X_train,X_test,y_train,y_test)"
   ]
  },
  {
   "cell_type": "code",
   "execution_count": 16,
   "metadata": {},
   "outputs": [
    {
     "name": "stdout",
     "output_type": "stream",
     "text": [
      "[31.39233308 24.82460828 22.50323618 23.73159739 23.30575627 18.54379304\n",
      " 23.30374247 23.01921778 23.91262747 16.64052743 28.24291255 17.85017473\n",
      " 23.83489355 30.06571696 31.73553273 30.1931798  30.52083659 22.60730574\n",
      " 31.38969988 18.81664654 26.85902487 -6.19880984 23.29502181 17.8324519\n",
      " 13.42564106 18.52264508 31.19052617 18.46324254 16.05767405 26.94947749\n",
      " 18.18264192 24.79668691 24.79963974 24.40301376 26.7870105  26.65483687\n",
      "  4.89713282  8.84808528 18.59494095 25.03275213 24.91442131 22.4981457\n",
      " 18.78474877 26.19398343 18.88865212 21.65417809 18.22269419 18.46038668\n",
      " 15.32442297 17.48702983 30.49109365 23.88811637 26.34996566 26.26889196\n",
      " 15.48637393 23.38452588 26.30071329 30.50654338 15.24096969 22.11707942\n",
      " 17.4015386  15.65794284 18.63186469 28.89178576 25.37220801 23.04536511\n",
      " 18.18474731 31.74294681 16.63022451 25.66848125 15.23683515 24.83459862\n",
      " 14.00219    23.76744477 24.61473598 15.44127515 24.60537607 26.32685151\n",
      " 16.98385585 26.12733064 26.33827575 26.84781468 23.83900463 15.81185929\n",
      " 18.16982481 23.76177956 18.77630395 18.58356383 17.15324312 25.70608781\n",
      " 28.59919892 23.04656735 24.57603034 26.77022525 24.89792419 18.84748555\n",
      " 16.65955631 18.67262074 15.71720463 18.45538104 18.19405443 17.73142828\n",
      " 14.65263291 23.14833572 18.90327843 26.26439088 32.00782393 17.64201951\n",
      " 15.72983073 26.52085035 24.36317259 27.22797864 32.08444765 17.1380714\n",
      " 24.85725358 23.89346332 25.84925765 26.7522092  17.46748018  7.71407668\n",
      " 18.04783524 17.3567829  19.06525264 24.39891147 23.90923186 18.28823718\n",
      " 18.93172175 17.8973789  24.5968724  26.33666474 23.23555113 23.91601564\n",
      " 27.1391559  23.90217812 21.64919139 31.85027475 23.41696006 21.66932163\n",
      " 15.6886147  26.32854931 23.7911231  15.73689464 18.02094607 29.03978662\n",
      " 28.6158192  23.87899828 17.18449851 25.71179966 16.65090603 25.84932216\n",
      " 16.98142204 27.27169631]\n"
     ]
    }
   ],
   "source": [
    "y_pred=linreg.predict(X_test)\n",
    "print(y_pred)"
   ]
  },
  {
   "cell_type": "code",
   "execution_count": 17,
   "metadata": {},
   "outputs": [
    {
     "name": "stdout",
     "output_type": "stream",
     "text": [
      "8.93078658845529\n"
     ]
    }
   ],
   "source": [
    "print(np.sqrt(metrics.mean_squared_error(y_test, y_pred)))"
   ]
  },
  {
   "cell_type": "code",
   "execution_count": 18,
   "metadata": {},
   "outputs": [
    {
     "name": "stdout",
     "output_type": "stream",
     "text": [
      "         CRIM    ZN  INDUS\n",
      "103   0.21161   0.0   8.56\n",
      "51    0.04337  21.0   5.64\n",
      "249   0.19073  22.0   5.86\n",
      "477  15.02340   0.0  18.10\n",
      "496   0.28960   0.0   9.69\n",
      "252   0.08221  22.0   5.86\n",
      "40    0.03359  75.0   2.95\n",
      "425  15.86030   0.0  18.10\n",
      "78    0.05646   0.0  12.83\n",
      "430   8.49213   0.0  18.10\n",
      "409  14.43830   0.0  18.10\n",
      "153   2.14918   0.0  19.58\n",
      "341   0.01301  35.0   1.52\n",
      "335   0.03961   0.0   5.19\n",
      "213   0.14052   0.0  10.59\n",
      "136   0.32264   0.0  21.89\n",
      "353   0.01709  90.0   2.02\n",
      "125   0.16902   0.0  25.65\n",
      "69    0.12816  12.5   6.07\n",
      "381  15.87440   0.0  18.10\n",
      "221   0.40771   0.0   6.20\n",
      "384  20.08490   0.0  18.10\n",
      "22    1.23247   0.0   8.14\n",
      "41    0.12744   0.0   6.91\n",
      "437  15.17720   0.0  18.10\n",
      "43    0.15936   0.0   6.91\n",
      "97    0.12083   0.0   2.89\n",
      "399   9.91655   0.0  18.10\n",
      "90    0.04684   0.0   3.41\n",
      "98    0.08187   0.0   2.89\n",
      "..        ...   ...    ...\n",
      "364   3.47428   0.0  18.10\n",
      "155   3.53501   0.0  19.58\n",
      "386  24.39380   0.0  18.10\n",
      "86    0.05188   0.0   4.49\n",
      "93    0.02875  28.0  15.04\n",
      "137   0.35233   0.0  21.89\n",
      "400  25.04610   0.0  18.10\n",
      "58    0.15445  25.0   5.13\n",
      "316   0.31827   0.0   9.90\n",
      "363   4.22239   0.0  18.10\n",
      "228   0.29819   0.0   6.20\n",
      "143   4.09740   0.0  19.58\n",
      "504   0.10959   0.0  11.93\n",
      "240   0.11329  30.0   4.93\n",
      "290   0.03502  80.0   4.95\n",
      "14    0.63796   0.0   8.14\n",
      "226   0.38214   0.0   6.20\n",
      "66    0.04379  80.0   3.37\n",
      "53    0.04981  21.0   5.64\n",
      "354   0.04301  80.0   1.91\n",
      "436  14.42080   0.0  18.10\n",
      "350   0.06211  40.0   1.25\n",
      "394  13.35980   0.0  18.10\n",
      "432   6.44405   0.0  18.10\n",
      "79    0.08387   0.0  12.83\n",
      "343   0.02543  55.0   3.78\n",
      "359   4.26131   0.0  18.10\n",
      "323   0.28392   0.0   7.38\n",
      "280   0.03578  20.0   3.33\n",
      "8     0.21124  12.5   7.87\n",
      "\n",
      "[455 rows x 3 columns]          CRIM    ZN  INDUS\n",
      "198   0.03768  80.0   1.52\n",
      "229   0.44178   0.0   6.20\n",
      "502   0.04527   0.0  11.93\n",
      "31    1.35472   0.0   8.14\n",
      "315   0.25356   0.0   9.90\n",
      "169   2.44953   0.0  19.58\n",
      "111   0.10084   0.0  10.01\n",
      "206   0.22969   0.0  10.59\n",
      "108   0.12802   0.0   8.56\n",
      "420  11.08740   0.0  18.10\n",
      "287   0.03871  52.5   5.32\n",
      "390   6.96215   0.0  18.10\n",
      "29    1.00245   0.0   8.14\n",
      "54    0.01360  75.0   4.00\n",
      "203   0.03510  95.0   2.68\n",
      "351   0.07950  60.0   1.69\n",
      "298   0.06466  70.0   2.24\n",
      "310   2.63548   0.0   9.90\n",
      "197   0.04666  80.0   1.52\n",
      "163   1.51902   0.0  19.58\n",
      "260   0.54011  20.0   3.97\n",
      "380  88.97620   0.0  18.10\n",
      "118   0.13058   0.0  10.01\n",
      "421   7.02259   0.0  18.10\n",
      "440  22.05110   0.0  18.10\n",
      "456   4.66883   0.0  18.10\n",
      "348   0.01501  80.0   2.01\n",
      "476   4.87141   0.0  18.10\n",
      "469  13.07510   0.0  18.10\n",
      "331   0.05023  35.0   6.06\n",
      "133   0.32982   0.0  21.89\n",
      "230   0.53700   0.0   6.20\n",
      "225   0.52693   0.0   6.20\n",
      "320   0.16760   0.0   7.38\n",
      "266   0.78570  20.0   3.97\n",
      "3     0.03237   0.0   2.18\n",
      "410  51.13580   0.0  18.10\n",
      "427  37.66190   0.0  18.10\n",
      "467   4.42228   0.0  18.10\n",
      "37    0.08014   0.0   5.96\n",
      "6     0.08829  12.5   7.87\n",
      "501   0.06263   0.0  11.93\n",
      "466   3.77498   0.0  18.10\n",
      "328   0.06617   0.0   3.24\n",
      "160   1.27346   0.0  19.58\n",
      "296   0.05372   0.0  13.92\n",
      "486   5.69175   0.0  18.10\n",
      "149   2.73397   0.0  19.58\n",
      "468  15.57570   0.0  18.10\n",
      "457   8.20058   0.0  18.10\n",
      "255   0.03548  80.0   3.64 [19.3 20.5 26.2 12.  19.7 29.6 34.9  8.3 21.2 14.5 27.5 19.4 32.7 21.1\n",
      " 28.1 17.4 30.1 21.4 20.9 10.9 21.7  8.8 15.2 26.6  8.7 24.7 38.7  6.3\n",
      " 22.6 43.8 50.  14.5 11.7 12.5 13.6 21.5 19.1  9.5 17.2 29.8 22.6 21.6\n",
      " 22.2 27.1 17.  22.  50.   7.2 50.  14.  11.  10.2 22.1 41.3 17.6 24.7\n",
      "  8.5  8.1 26.4 23.  35.1 35.4 12.8 24.  20.2 29.4 16.  50.   8.5 14.9\n",
      " 13.8 21.8 23.1 20.1 13.4 15.3 20.  20.  19.7 22.8 18.2 23.3 18.4 23.\n",
      " 50.  23.1 23.3 21.4 21.4 13.1  7.  14.3 31.2 30.5 19.6 50.  24.4 18.8\n",
      " 29.9 12.6 46.  20.2 21.4 14.6 34.9 23.9 23.2 16.8 15.7 20.6 31.6 23.7\n",
      " 17.2 33.  28.7 21.9 25.2 20.6 16.2 28.7 22.  19.  34.9 28.  22.6 22.6\n",
      " 17.8 29.  19.3 37.  17.1 18.6 22.8 19.8 14.8 21.7 24.3 43.5 20.3 26.4\n",
      " 20.8 13.8 16.1 31.7 15.6 14.4  5.  50.  16.4 20.  15.2 22.2 25.1 19.2\n",
      " 32.  19.9 14.1 18.7 12.3 22.3 31.  20.5 23.3 13.4 13.9 23.6 16.6 18.5\n",
      " 19.4 11.9 19.6 19.6 23.6 27.9 29.8 50.  17.5 20.3 36.1 21.7 10.8 23.1\n",
      " 23.1 20.1 23.  14.6 16.6 33.2 18.9 11.9 30.8 50.  25.  24.6 11.3 48.3\n",
      " 15.  23.9 21.9 30.1 13.8 10.2 23.5 18.4 21.2 21.6 50.  32.  18.  13.1\n",
      " 12.1 15.  28.4 20.7 24.8 13.2 27.9 17.3 23.  21.7 16.3 19.9 18.3 18.3\n",
      " 26.6 24.1 22.7 25.  17.8 17.2 50.  24.6 21.  10.4  8.4 36.  18.7 24.4\n",
      " 18.8 24.3 24.5 25.3 22.9  7.4 20.6  5.   8.4 17.7 19.9 11.7 22.2 37.2\n",
      " 22.2 29.1 15.2 26.5 18.9 13.9 20.6 29.1 35.4 23.9 23.2 24.8 13.1 17.8\n",
      " 11.8 24.1 44.8 13.3 21.5 13.1 13.8 17.9 19.2 13.4 14.9 21.4 21.7 32.2\n",
      " 15.6 23.8 17.8  9.7 13.6 13.8 20.8 25.  13.5 11.8 20.4 37.9 41.7 23.4\n",
      " 11.5 31.6 19.6 21.2 22.9 26.6 15.6 32.9 36.5 13.3 33.2 30.1 26.7 22.\n",
      " 19.4 16.5 21.7 23.1 37.3 28.7 22.  14.3 23.7 21.8 20.1 28.2 27.5 20.4\n",
      " 28.6 50.  21.2 20.5 22.7 25.  48.8 33.1 18.9 42.8 33.4 33.3 20.3 25.\n",
      " 14.9 24.4 44.  18.6 23.8 24.8 20.  19.3 31.5 18.5 28.4 18.7 17.4 20.1\n",
      " 20.6 23.7 24.7 22.2 43.1 20.  29.  39.8 23.2 19.9  7.5 25.  21.2 22.5\n",
      " 22.4 13.4 24.2 19.6 20.8 29.6 19.5 24.  20.7 13.  23.1 17.4 24.5 17.5\n",
      " 12.7 19.5 20.4 22.8 35.2 42.3  8.8 36.4 32.4 23.1 21.7 27.5 23.8 33.1\n",
      " 17.5  7.  50.  23.7 19.4 50.  36.2 25.   8.3 19.5 13.3 34.7 19.5 24.8\n",
      " 14.1 32.5 21.1 19.8 31.1 14.1 19.4 18.1 23.9 15.4 22.  36.2 27.5 19.3\n",
      " 18.5 14.4  7.2  7.2 10.2 21.9 15.6 10.5 22.5 25.  17.1  5.6 23.3 17.8\n",
      " 16.8 46.7 15.6 22.  22.  28.5 18.2 37.6 19.4 23.4 18.2  9.6 22.9 12.7\n",
      " 16.1 20.3 23.9 22.6 18.5 45.4 16.5] [34.6 31.5 20.6 14.5 16.2 22.3 22.8 24.4 19.8 16.7 23.2 15.1 21.  18.9\n",
      " 48.5 24.1 22.5 16.1 30.3 50.  33.8 10.4 20.4 14.2 10.5 12.7 24.5 16.7\n",
      " 20.1 17.1 18.4 24.3 50.  23.8 30.7 33.4 15.  10.9 19.1 21.  22.9 22.4\n",
      " 19.  19.3 27.  27.1 19.1 15.4 19.1 13.5 20.9]\n"
     ]
    },
    {
     "name": "stderr",
     "output_type": "stream",
     "text": [
      "C:\\ProgramData\\Anaconda3\\lib\\site-packages\\sklearn\\model_selection\\_split.py:2179: FutureWarning: From version 0.21, test_size will always complement train_size unless both are specified.\n",
      "  FutureWarning)\n"
     ]
    }
   ],
   "source": [
    "X_train, X_test, y_train, y_test=train_test_split(X,y,train_size=0.9,random_state=100)\n",
    "linreg=LinearRegression()\n",
    "linreg.fit(X_train,y_train)\n",
    "print(X_train,X_test,y_train,y_test)"
   ]
  },
  {
   "cell_type": "code",
   "execution_count": 19,
   "metadata": {},
   "outputs": [
    {
     "name": "stdout",
     "output_type": "stream",
     "text": [
      "[31.9037373  24.6912583  22.51857137 23.6353845  23.26756088 18.72064688\n",
      " 23.27023097 22.99862584 23.84241296 16.67136093 28.58936886 17.93302009\n",
      " 23.74312213 30.59229998 32.41799808 30.51906586 30.9553285  22.53907868\n",
      " 31.90099087 19.00523241 26.8577693  -7.15001174 23.26113534 17.91453523\n",
      " 13.31824234 18.63440502 31.71450348 18.57244831 16.06344629 27.14874777\n",
      " 18.44414716 24.66213638 24.66521617 24.30271046 26.78265848 26.42584299\n",
      "  4.42302919  8.54386291 18.70980943 24.89794351 24.94568887 22.51326202\n",
      " 18.90777852 25.99114403 19.08033405 21.71930813 18.32155698 18.63365426\n",
      " 15.29866721 17.55426085 31.05568688]\n"
     ]
    }
   ],
   "source": [
    "y_pred=linreg.predict(X_test)\n",
    "print(y_pred)"
   ]
  },
  {
   "cell_type": "code",
   "execution_count": 20,
   "metadata": {},
   "outputs": [
    {
     "name": "stdout",
     "output_type": "stream",
     "text": [
      "8.282138870776437\n"
     ]
    }
   ],
   "source": [
    "print(np.sqrt(metrics.mean_squared_error(y_test, y_pred)))"
   ]
  },
  {
   "cell_type": "markdown",
   "metadata": {},
   "source": [
    "### 4. Use k-fold cross validation varying the number of folds from 5 to 10\n",
    "What seems optimal? How do your scores change? What is the variance like? Try different folds to get a sense of how this impacts your score. What are the tradeoffs associated with choosing the number of folds?"
   ]
  },
  {
   "cell_type": "code",
   "execution_count": 21,
   "metadata": {},
   "outputs": [
    {
     "name": "stdout",
     "output_type": "stream",
     "text": [
      "60.17031535124666\n",
      "0.28124198358376634\n"
     ]
    }
   ],
   "source": [
    "from sklearn import model_selection\n",
    "from sklearn.model_selection import cross_val_score\n",
    "\n",
    "kf = model_selection.KFold(n_splits=5, shuffle=True)\n",
    "print(np.mean(-cross_val_score(linreg, X, y, cv=kf, scoring='neg_mean_squared_error')))\n",
    "print(np.mean(cross_val_score(linreg, X, y, cv=kf)))"
   ]
  },
  {
   "cell_type": "code",
   "execution_count": 22,
   "metadata": {},
   "outputs": [
    {
     "name": "stdout",
     "output_type": "stream",
     "text": [
      "60.722300669488355\n",
      "0.2770226852998345\n"
     ]
    }
   ],
   "source": [
    "from sklearn import model_selection\n",
    "from sklearn.model_selection import cross_val_score\n",
    "\n",
    "kf = model_selection.KFold(n_splits=6, shuffle=True)\n",
    "print(np.mean(-cross_val_score(linreg, X, y, cv=kf, scoring='neg_mean_squared_error')))\n",
    "print(np.mean(cross_val_score(linreg, X, y, cv=kf)))"
   ]
  },
  {
   "cell_type": "code",
   "execution_count": 23,
   "metadata": {},
   "outputs": [
    {
     "name": "stdout",
     "output_type": "stream",
     "text": [
      "60.85169366040858\n",
      "0.2741619920881561\n"
     ]
    }
   ],
   "source": [
    "from sklearn import model_selection\n",
    "from sklearn.model_selection import cross_val_score\n",
    "\n",
    "kf = model_selection.KFold(n_splits=7, shuffle=True)\n",
    "print(np.mean(-cross_val_score(linreg, X, y, cv=kf, scoring='neg_mean_squared_error')))\n",
    "print(np.mean(cross_val_score(linreg, X, y, cv=kf)))    "
   ]
  },
  {
   "cell_type": "code",
   "execution_count": 24,
   "metadata": {},
   "outputs": [
    {
     "name": "stdout",
     "output_type": "stream",
     "text": [
      "61.3811759591126\n",
      "0.28279874242508496\n"
     ]
    }
   ],
   "source": [
    "from sklearn import model_selection\n",
    "from sklearn.model_selection import cross_val_score\n",
    "\n",
    "kf = model_selection.KFold(n_splits=8, shuffle=True)\n",
    "print(np.mean(-cross_val_score(linreg, X, y, cv=kf, scoring='neg_mean_squared_error')))\n",
    "print(np.mean(cross_val_score(linreg, X, y, cv=kf)))"
   ]
  },
  {
   "cell_type": "code",
   "execution_count": 25,
   "metadata": {},
   "outputs": [
    {
     "name": "stdout",
     "output_type": "stream",
     "text": [
      "60.41317269227696\n",
      "0.26981713495188003\n"
     ]
    }
   ],
   "source": [
    "from sklearn import model_selection\n",
    "from sklearn.model_selection import cross_val_score\n",
    "\n",
    "kf = model_selection.KFold(n_splits=9, shuffle=True)\n",
    "print(np.mean(-cross_val_score(linreg, X, y, cv=kf, scoring='neg_mean_squared_error')))\n",
    "print(np.mean(cross_val_score(linreg, X, y, cv=kf)))"
   ]
  },
  {
   "cell_type": "code",
   "execution_count": 26,
   "metadata": {},
   "outputs": [
    {
     "name": "stdout",
     "output_type": "stream",
     "text": [
      "60.952917888593205\n",
      "0.2654510328913961\n"
     ]
    }
   ],
   "source": [
    "from sklearn import model_selection\n",
    "from sklearn.model_selection import cross_val_score\n",
    "\n",
    "kf = model_selection.KFold(n_splits=10, shuffle=True)\n",
    "print(np.mean(-cross_val_score(linreg, X, y, cv=kf, scoring='neg_mean_squared_error')))\n",
    "print(np.mean(cross_val_score(linreg, X, y, cv=kf)))"
   ]
  },
  {
   "cell_type": "code",
   "execution_count": 27,
   "metadata": {},
   "outputs": [],
   "source": [
    "kf = model_selection.KFold(n_splits=5, shuffle=True)"
   ]
  },
  {
   "cell_type": "code",
   "execution_count": null,
   "metadata": {},
   "outputs": [],
   "source": []
  },
  {
   "cell_type": "markdown",
   "metadata": {},
   "source": [
    "# KNN Practice"
   ]
  },
  {
   "cell_type": "code",
   "execution_count": 28,
   "metadata": {},
   "outputs": [],
   "source": [
    "# Read the iris data into a DataFrame\n",
    "url = 'http://archive.ics.uci.edu/ml/machine-learning-databases/iris/iris.data'\n",
    "\n",
    "col_names = ['sepal_length', 'sepal_width', 'petal_length', 'petal_width', 'species']\n",
    "iris = pd.read_csv(url, header=None, names=col_names)"
   ]
  },
  {
   "cell_type": "code",
   "execution_count": 29,
   "metadata": {},
   "outputs": [],
   "source": [
    "iris.head()\n",
    "\n",
    "# Increase the default figure and font sizes for easier viewing\n",
    "plt.rcParams['figure.figsize'] = (6, 4)\n",
    "plt.rcParams['font.size'] = 14"
   ]
  },
  {
   "cell_type": "code",
   "execution_count": 30,
   "metadata": {},
   "outputs": [],
   "source": [
    "# Create a custom colormap\n",
    "from matplotlib.colors import ListedColormap\n",
    "\n",
    "cmap_bold = ListedColormap(['#FF0000', '#00FF00', '#0000FF'])"
   ]
  },
  {
   "cell_type": "code",
   "execution_count": 31,
   "metadata": {},
   "outputs": [
    {
     "data": {
      "image/png": "[encoded data removed]",
      "text/plain": [
       "<Figure size 432x288 with 2 Axes>"
      ]
     },
     "metadata": {
      "needs_background": "light"
     },
     "output_type": "display_data"
    }
   ],
   "source": [
    "# Map each iris species to a number\n",
    "# Let's use Iris-setosa':0, 'Iris-versicolor':1, 'Iris-virginica':2 and create a column called 'species_num'\n",
    "\n",
    "# Create a scatterplot of PETAL LENGTH versus PETAL WIDTH and color by SPECIES\n",
    "\n",
    "# Create a scatterplot of SEPAL LENGTH versus SEPAL WIDTH and color by SPECIES\n",
    "iris['species_num'] = iris.species.map({'Iris-setosa':0, 'Iris-versicolor':1, 'Iris-virginica':2})\n",
    "iris.plot(kind='scatter', x='petal_length', y='petal_width', c='species_num', colormap='brg');\n"
   ]
  },
  {
   "cell_type": "code",
   "execution_count": 32,
   "metadata": {},
   "outputs": [
    {
     "data": {
      "image/png": "[encoded data removed]",
      "text/plain": [
       "<Figure size 432x288 with 2 Axes>"
      ]
     },
     "metadata": {
      "needs_background": "light"
     },
     "output_type": "display_data"
    }
   ],
   "source": [
    "iris['species_num'] = iris.species.map({'Iris-setosa':0, 'Iris-versicolor':1, 'Iris-virginica':2})\n",
    "iris.plot(kind='scatter', x='sepal_length', y='sepal_width', c='species_num', colormap='brg');\n"
   ]
  },
  {
   "cell_type": "markdown",
   "metadata": {},
   "source": [
    "## KNN Classification of the Iris Dataset"
   ]
  },
  {
   "cell_type": "markdown",
   "metadata": {},
   "source": [
    "### Create your feature matrix \"X\"\n",
    "This will be all species measurements (sepal length, petal width, etc...)"
   ]
  },
  {
   "cell_type": "code",
   "execution_count": 33,
   "metadata": {},
   "outputs": [],
   "source": [
    "feature_cols = ['sepal_length', 'sepal_width', 'petal_length', 'petal_width']\n",
    "X = iris[feature_cols]"
   ]
  },
  {
   "cell_type": "markdown",
   "metadata": {},
   "source": [
    "### Create your target vector \"y\"\n",
    "This will be the species type."
   ]
  },
  {
   "cell_type": "code",
   "execution_count": 34,
   "metadata": {},
   "outputs": [],
   "source": [
    "y=iris.species_num"
   ]
  },
  {
   "cell_type": "markdown",
   "metadata": {},
   "source": [
    "### Make Use of Train-Test-Split\n",
    "Split your data in to train and test sets."
   ]
  },
  {
   "cell_type": "code",
   "execution_count": 35,
   "metadata": {},
   "outputs": [],
   "source": [
    "X_train_iris, X_test_iris, y_train_iris, y_test_iris=train_test_split(X,y,random_state=100)"
   ]
  },
  {
   "cell_type": "markdown",
   "metadata": {},
   "source": [
    "### Import KNN From `scikit-learn` and Instatiate a Model With One Neighbor"
   ]
  },
  {
   "cell_type": "code",
   "execution_count": 36,
   "metadata": {},
   "outputs": [
    {
     "name": "stdout",
     "output_type": "stream",
     "text": [
      "KNeighborsClassifier(algorithm='auto', leaf_size=30, metric='minkowski',\n",
      "           metric_params=None, n_jobs=None, n_neighbors=1, p=2,\n",
      "           weights='uniform')\n"
     ]
    }
   ],
   "source": [
    "from sklearn.neighbors import KNeighborsClassifier\n",
    "knn = KNeighborsClassifier(n_neighbors=1)\n",
    "print(knn)\n"
   ]
  },
  {
   "cell_type": "markdown",
   "metadata": {},
   "source": [
    "### Check the Accuracy\n",
    "Train your model using the training set then use the test set to determine the accuracy"
   ]
  },
  {
   "cell_type": "code",
   "execution_count": 37,
   "metadata": {},
   "outputs": [
    {
     "name": "stdout",
     "output_type": "stream",
     "text": [
      "0.9736842105263158\n"
     ]
    }
   ],
   "source": [
    "from sklearn import metrics\n",
    "knn.fit(X_train_iris,y_train_iris)\n",
    "y_pred=knn.predict(X_test_iris)\n",
    "print((metrics.accuracy_score(y_test_iris, y_pred)))"
   ]
  },
  {
   "cell_type": "markdown",
   "metadata": {},
   "source": [
    "### Create a Model With Five Neighbors. Did it Improve?"
   ]
  },
  {
   "cell_type": "code",
   "execution_count": 39,
   "metadata": {},
   "outputs": [
    {
     "name": "stdout",
     "output_type": "stream",
     "text": [
      "0.9736842105263158\n"
     ]
    }
   ],
   "source": [
    "knn = KNeighborsClassifier(n_neighbors=5)\n",
    "print((metrics.accuracy_score(y_test_iris, y_pred)))"
   ]
  },
  {
   "cell_type": "markdown",
   "metadata": {},
   "source": [
    "### Create a Looped Function That Will Check All Levels of Various Neighbors and Calculate the Accuracy"
   ]
  },
  {
   "cell_type": "code",
   "execution_count": 43,
   "metadata": {},
   "outputs": [],
   "source": [
    "k_range = list(range(1, 101))\n",
    "training_error = []\n",
    "testing_error = []\n",
    "\n",
    "# Find test accuracy for all values of K between 1 and 100 (inclusive).\n",
    "for k in k_range:\n",
    "\n",
    "    # Instantiate the model with the current K value.\n",
    "    knn = KNeighborsClassifier(n_neighbors=k)\n",
    "    knn.fit(X_train_iris, y_train_iris)\n",
    "    \n",
    "    # Calculate training error (error = 1 - accuracy).\n",
    "    y_pred_class = knn.predict(X)\n",
    "    training_accuracy = metrics.accuracy_score(y, y_pred_class)\n",
    "    training_error.append(1 - training_accuracy)\n",
    "    \n",
    "    # Calculate testing error.\n",
    "    y_pred_class = knn.predict(X_test_iris)\n",
    "    testing_accuracy = metrics.accuracy_score(y_test_iris, y_pred_class)\n",
    "    testing_error.append(1 - testing_accuracy)"
   ]
  },
  {
   "cell_type": "code",
   "execution_count": 44,
   "metadata": {},
   "outputs": [],
   "source": [
    "%matplotlib inline\n",
    "import matplotlib.pyplot as plt\n",
    "plt.style.use('fivethirtyeight')"
   ]
  },
  {
   "cell_type": "code",
   "execution_count": 45,
   "metadata": {},
   "outputs": [
    {
     "data": {
      "text/html": [
       "<div>\n",
       "<style scoped>\n",
       "    .dataframe tbody tr th:only-of-type {\n",
       "        vertical-align: middle;\n",
       "    }\n",
       "\n",
       "    .dataframe tbody tr th {\n",
       "        vertical-align: top;\n",
       "    }\n",
       "\n",
       "    .dataframe thead th {\n",
       "        text-align: right;\n",
       "    }\n",
       "</style>\n",
       "<table border=\"1\" class=\"dataframe\">\n",
       "  <thead>\n",
       "    <tr style=\"text-align: right;\">\n",
       "      <th></th>\n",
       "      <th>training error</th>\n",
       "      <th>testing error</th>\n",
       "    </tr>\n",
       "    <tr>\n",
       "      <th>K</th>\n",
       "      <th></th>\n",
       "      <th></th>\n",
       "    </tr>\n",
       "  </thead>\n",
       "  <tbody>\n",
       "    <tr>\n",
       "      <th>1</th>\n",
       "      <td>0.006667</td>\n",
       "      <td>0.026316</td>\n",
       "    </tr>\n",
       "    <tr>\n",
       "      <th>2</th>\n",
       "      <td>0.020000</td>\n",
       "      <td>0.026316</td>\n",
       "    </tr>\n",
       "    <tr>\n",
       "      <th>3</th>\n",
       "      <td>0.033333</td>\n",
       "      <td>0.026316</td>\n",
       "    </tr>\n",
       "    <tr>\n",
       "      <th>4</th>\n",
       "      <td>0.033333</td>\n",
       "      <td>0.052632</td>\n",
       "    </tr>\n",
       "    <tr>\n",
       "      <th>5</th>\n",
       "      <td>0.020000</td>\n",
       "      <td>0.026316</td>\n",
       "    </tr>\n",
       "  </tbody>\n",
       "</table>\n",
       "</div>"
      ],
      "text/plain": [
       "   training error  testing error\n",
       "K                               \n",
       "1        0.006667       0.026316\n",
       "2        0.020000       0.026316\n",
       "3        0.033333       0.026316\n",
       "4        0.033333       0.052632\n",
       "5        0.020000       0.026316"
      ]
     },
     "execution_count": 45,
     "metadata": {},
     "output_type": "execute_result"
    }
   ],
   "source": [
    "column_dict = {'K': k_range, 'training error':training_error, 'testing error':testing_error}\n",
    "df = pd.DataFrame(column_dict).set_index('K').sort_index(ascending=True)\n",
    "df.head()"
   ]
  },
  {
   "cell_type": "code",
   "execution_count": 46,
   "metadata": {},
   "outputs": [
    {
     "data": {
      "image/png": "[encoded data removed]",
      "text/plain": [
       "<Figure size 432x288 with 1 Axes>"
      ]
     },
     "metadata": {},
     "output_type": "display_data"
    }
   ],
   "source": [
    "df.plot(y='testing error');\n",
    "plt.xlabel('Value of K for KNN');\n",
    "plt.ylabel('Error (lower is better)');"
   ]
  },
  {
   "cell_type": "code",
   "execution_count": 47,
   "metadata": {},
   "outputs": [
    {
     "data": {
      "text/plain": [
       "(0.0, 7)"
      ]
     },
     "execution_count": 47,
     "metadata": {},
     "output_type": "execute_result"
    }
   ],
   "source": [
    "min(list(zip(testing_error, k_range)))\n"
   ]
  },
  {
   "cell_type": "code",
   "execution_count": 48,
   "metadata": {},
   "outputs": [
    {
     "data": {
      "text/plain": [
       "1.0"
      ]
     },
     "execution_count": 48,
     "metadata": {},
     "output_type": "execute_result"
    }
   ],
   "source": [
    "knn7 = KNeighborsClassifier(n_neighbors=7)\n",
    "knn7.fit(X_train_iris, y_train_iris)\n",
    "pred_7 = knn7.predict(X_test_iris)\n",
    "metrics.accuracy_score(y_test_iris, pred_7)"
   ]
  },
  {
   "cell_type": "markdown",
   "metadata": {},
   "source": [
    "### Bonus: According to `scikit-learn` Documentation, What is `knn.predict_proba(X_new)` Going to Do?"
   ]
  },
  {
   "cell_type": "code",
   "execution_count": null,
   "metadata": {},
   "outputs": [],
   "source": []
  },
  {
   "cell_type": "markdown",
   "metadata": {},
   "source": [
    "## Enrichment\n",
    "_Everything beyond this point is enrichment and examples using Statsmodels for linear regression._"
   ]
  },
  {
   "cell_type": "markdown",
   "metadata": {},
   "source": [
    "### Example: Using the Statsmodels Formula\n",
    "\n",
    "Adapt the formula example using your metrics. We will review this implementation in class. Here is a reference to consider. The workflow is the same, but the syntax is a little different. We want to get accustomed to the formula syntax because we will be using them a lot more with regressions. The results should be comparable to scikit-learn's regression models."
   ]
  },
  {
   "cell_type": "code",
   "execution_count": 51,
   "metadata": {},
   "outputs": [
    {
     "data": {
      "text/html": [
       "<div>\n",
       "<style scoped>\n",
       "    .dataframe tbody tr th:only-of-type {\n",
       "        vertical-align: middle;\n",
       "    }\n",
       "\n",
       "    .dataframe tbody tr th {\n",
       "        vertical-align: top;\n",
       "    }\n",
       "\n",
       "    .dataframe thead th {\n",
       "        text-align: right;\n",
       "    }\n",
       "</style>\n",
       "<table border=\"1\" class=\"dataframe\">\n",
       "  <thead>\n",
       "    <tr style=\"text-align: right;\">\n",
       "      <th></th>\n",
       "      <th>CRIM</th>\n",
       "      <th>ZN</th>\n",
       "      <th>INDUS</th>\n",
       "      <th>CHAS</th>\n",
       "      <th>NOX</th>\n",
       "      <th>RM</th>\n",
       "      <th>AGE</th>\n",
       "      <th>DIS</th>\n",
       "      <th>RAD</th>\n",
       "      <th>TAX</th>\n",
       "      <th>PTRATIO</th>\n",
       "      <th>B</th>\n",
       "      <th>LSTAT</th>\n",
       "      <th>MEDV</th>\n",
       "    </tr>\n",
       "  </thead>\n",
       "  <tbody>\n",
       "    <tr>\n",
       "      <th>0</th>\n",
       "      <td>0.00632</td>\n",
       "      <td>18.0</td>\n",
       "      <td>2.31</td>\n",
       "      <td>0.0</td>\n",
       "      <td>0.538</td>\n",
       "      <td>6.575</td>\n",
       "      <td>65.2</td>\n",
       "      <td>4.0900</td>\n",
       "      <td>1.0</td>\n",
       "      <td>296.0</td>\n",
       "      <td>15.3</td>\n",
       "      <td>396.90</td>\n",
       "      <td>4.98</td>\n",
       "      <td>24.0</td>\n",
       "    </tr>\n",
       "    <tr>\n",
       "      <th>1</th>\n",
       "      <td>0.02731</td>\n",
       "      <td>0.0</td>\n",
       "      <td>7.07</td>\n",
       "      <td>0.0</td>\n",
       "      <td>0.469</td>\n",
       "      <td>6.421</td>\n",
       "      <td>78.9</td>\n",
       "      <td>4.9671</td>\n",
       "      <td>2.0</td>\n",
       "      <td>242.0</td>\n",
       "      <td>17.8</td>\n",
       "      <td>396.90</td>\n",
       "      <td>9.14</td>\n",
       "      <td>21.6</td>\n",
       "    </tr>\n",
       "    <tr>\n",
       "      <th>2</th>\n",
       "      <td>0.02729</td>\n",
       "      <td>0.0</td>\n",
       "      <td>7.07</td>\n",
       "      <td>0.0</td>\n",
       "      <td>0.469</td>\n",
       "      <td>7.185</td>\n",
       "      <td>61.1</td>\n",
       "      <td>4.9671</td>\n",
       "      <td>2.0</td>\n",
       "      <td>242.0</td>\n",
       "      <td>17.8</td>\n",
       "      <td>392.83</td>\n",
       "      <td>4.03</td>\n",
       "      <td>34.7</td>\n",
       "    </tr>\n",
       "    <tr>\n",
       "      <th>3</th>\n",
       "      <td>0.03237</td>\n",
       "      <td>0.0</td>\n",
       "      <td>2.18</td>\n",
       "      <td>0.0</td>\n",
       "      <td>0.458</td>\n",
       "      <td>6.998</td>\n",
       "      <td>45.8</td>\n",
       "      <td>6.0622</td>\n",
       "      <td>3.0</td>\n",
       "      <td>222.0</td>\n",
       "      <td>18.7</td>\n",
       "      <td>394.63</td>\n",
       "      <td>2.94</td>\n",
       "      <td>33.4</td>\n",
       "    </tr>\n",
       "    <tr>\n",
       "      <th>4</th>\n",
       "      <td>0.06905</td>\n",
       "      <td>0.0</td>\n",
       "      <td>2.18</td>\n",
       "      <td>0.0</td>\n",
       "      <td>0.458</td>\n",
       "      <td>7.147</td>\n",
       "      <td>54.2</td>\n",
       "      <td>6.0622</td>\n",
       "      <td>3.0</td>\n",
       "      <td>222.0</td>\n",
       "      <td>18.7</td>\n",
       "      <td>396.90</td>\n",
       "      <td>5.33</td>\n",
       "      <td>36.2</td>\n",
       "    </tr>\n",
       "  </tbody>\n",
       "</table>\n",
       "</div>"
      ],
      "text/plain": [
       "      CRIM    ZN  INDUS  CHAS    NOX     RM   AGE     DIS  RAD    TAX  \\\n",
       "0  0.00632  18.0   2.31   0.0  0.538  6.575  65.2  4.0900  1.0  296.0   \n",
       "1  0.02731   0.0   7.07   0.0  0.469  6.421  78.9  4.9671  2.0  242.0   \n",
       "2  0.02729   0.0   7.07   0.0  0.469  7.185  61.1  4.9671  2.0  242.0   \n",
       "3  0.03237   0.0   2.18   0.0  0.458  6.998  45.8  6.0622  3.0  222.0   \n",
       "4  0.06905   0.0   2.18   0.0  0.458  7.147  54.2  6.0622  3.0  222.0   \n",
       "\n",
       "   PTRATIO       B  LSTAT  MEDV  \n",
       "0     15.3  396.90   4.98  24.0  \n",
       "1     17.8  396.90   9.14  21.6  \n",
       "2     17.8  392.83   4.03  34.7  \n",
       "3     18.7  394.63   2.94  33.4  \n",
       "4     18.7  396.90   5.33  36.2  "
      ]
     },
     "execution_count": 51,
     "metadata": {},
     "output_type": "execute_result"
    }
   ],
   "source": [
    "# First, format our data in a DataFrame\n",
    "\n",
    "df = pd.DataFrame(boston.data, columns=boston.feature_names)\n",
    "df['MEDV'] = boston.target\n",
    "df.head()"
   ]
  },
  {
   "cell_type": "code",
   "execution_count": 52,
   "metadata": {},
   "outputs": [
    {
     "data": {
      "text/html": [
       "<table class=\"simpletable\">\n",
       "<caption>OLS Regression Results</caption>\n",
       "<tr>\n",
       "  <th>Dep. Variable:</th>          <td>MEDV</td>       <th>  R-squared:         </th> <td>   0.951</td> \n",
       "</tr>\n",
       "<tr>\n",
       "  <th>Model:</th>                   <td>OLS</td>       <th>  Adj. R-squared:    </th> <td>   0.951</td> \n",
       "</tr>\n",
       "<tr>\n",
       "  <th>Method:</th>             <td>Least Squares</td>  <th>  F-statistic:       </th> <td>   1221.</td> \n",
       "</tr>\n",
       "<tr>\n",
       "  <th>Date:</th>             <td>Mon, 03 Jun 2019</td> <th>  Prob (F-statistic):</th> <td>1.38e-321</td>\n",
       "</tr>\n",
       "<tr>\n",
       "  <th>Time:</th>                 <td>19:06:53</td>     <th>  Log-Likelihood:    </th> <td> -1567.5</td> \n",
       "</tr>\n",
       "<tr>\n",
       "  <th>No. Observations:</th>      <td>   506</td>      <th>  AIC:               </th> <td>   3151.</td> \n",
       "</tr>\n",
       "<tr>\n",
       "  <th>Df Residuals:</th>          <td>   498</td>      <th>  BIC:               </th> <td>   3185.</td> \n",
       "</tr>\n",
       "<tr>\n",
       "  <th>Df Model:</th>              <td>     8</td>      <th>                     </th>     <td> </td>    \n",
       "</tr>\n",
       "<tr>\n",
       "  <th>Covariance Type:</th>      <td>nonrobust</td>    <th>                     </th>     <td> </td>    \n",
       "</tr>\n",
       "</table>\n",
       "<table class=\"simpletable\">\n",
       "<tr>\n",
       "    <td></td>       <th>coef</th>     <th>std err</th>      <th>t</th>      <th>P>|t|</th>  <th>[0.025</th>    <th>0.975]</th>  \n",
       "</tr>\n",
       "<tr>\n",
       "  <th>RM</th>    <td>    4.9729</td> <td>    0.224</td> <td>   22.195</td> <td> 0.000</td> <td>    4.533</td> <td>    5.413</td>\n",
       "</tr>\n",
       "<tr>\n",
       "  <th>LSTAT</th> <td>   -0.5606</td> <td>    0.048</td> <td>  -11.795</td> <td> 0.000</td> <td>   -0.654</td> <td>   -0.467</td>\n",
       "</tr>\n",
       "<tr>\n",
       "  <th>RAD</th>   <td>    0.2128</td> <td>    0.070</td> <td>    3.050</td> <td> 0.002</td> <td>    0.076</td> <td>    0.350</td>\n",
       "</tr>\n",
       "<tr>\n",
       "  <th>TAX</th>   <td>   -0.0174</td> <td>    0.004</td> <td>   -4.272</td> <td> 0.000</td> <td>   -0.025</td> <td>   -0.009</td>\n",
       "</tr>\n",
       "<tr>\n",
       "  <th>NOX</th>   <td>    4.3448</td> <td>    3.384</td> <td>    1.284</td> <td> 0.200</td> <td>   -2.304</td> <td>   10.994</td>\n",
       "</tr>\n",
       "<tr>\n",
       "  <th>INDUS</th> <td>    0.0924</td> <td>    0.067</td> <td>    1.383</td> <td> 0.167</td> <td>   -0.039</td> <td>    0.224</td>\n",
       "</tr>\n",
       "<tr>\n",
       "  <th>CRIM</th>  <td>   -0.0891</td> <td>    0.037</td> <td>   -2.423</td> <td> 0.016</td> <td>   -0.161</td> <td>   -0.017</td>\n",
       "</tr>\n",
       "<tr>\n",
       "  <th>ZN</th>    <td>    0.0288</td> <td>    0.013</td> <td>    2.220</td> <td> 0.027</td> <td>    0.003</td> <td>    0.054</td>\n",
       "</tr>\n",
       "</table>\n",
       "<table class=\"simpletable\">\n",
       "<tr>\n",
       "  <th>Omnibus:</th>       <td>192.139</td> <th>  Durbin-Watson:     </th> <td>   0.812</td> \n",
       "</tr>\n",
       "<tr>\n",
       "  <th>Prob(Omnibus):</th> <td> 0.000</td>  <th>  Jarque-Bera (JB):  </th> <td> 832.155</td> \n",
       "</tr>\n",
       "<tr>\n",
       "  <th>Skew:</th>          <td> 1.666</td>  <th>  Prob(JB):          </th> <td>1.99e-181</td>\n",
       "</tr>\n",
       "<tr>\n",
       "  <th>Kurtosis:</th>      <td> 8.326</td>  <th>  Cond. No.          </th> <td>6.24e+03</td> \n",
       "</tr>\n",
       "</table><br/><br/>Warnings:<br/>[1] Standard Errors assume that the covariance matrix of the errors is correctly specified.<br/>[2] The condition number is large, 6.24e+03. This might indicate that there are<br/>strong multicollinearity or other numerical problems."
      ],
      "text/plain": [
       "<class 'statsmodels.iolib.summary.Summary'>\n",
       "\"\"\"\n",
       "                            OLS Regression Results                            \n",
       "==============================================================================\n",
       "Dep. Variable:                   MEDV   R-squared:                       0.951\n",
       "Model:                            OLS   Adj. R-squared:                  0.951\n",
       "Method:                 Least Squares   F-statistic:                     1221.\n",
       "Date:                Mon, 03 Jun 2019   Prob (F-statistic):          1.38e-321\n",
       "Time:                        19:06:53   Log-Likelihood:                -1567.5\n",
       "No. Observations:                 506   AIC:                             3151.\n",
       "Df Residuals:                     498   BIC:                             3185.\n",
       "Df Model:                           8                                         \n",
       "Covariance Type:            nonrobust                                         \n",
       "==============================================================================\n",
       "                 coef    std err          t      P>|t|      [0.025      0.975]\n",
       "------------------------------------------------------------------------------\n",
       "RM             4.9729      0.224     22.195      0.000       4.533       5.413\n",
       "LSTAT         -0.5606      0.048    -11.795      0.000      -0.654      -0.467\n",
       "RAD            0.2128      0.070      3.050      0.002       0.076       0.350\n",
       "TAX           -0.0174      0.004     -4.272      0.000      -0.025      -0.009\n",
       "NOX            4.3448      3.384      1.284      0.200      -2.304      10.994\n",
       "INDUS          0.0924      0.067      1.383      0.167      -0.039       0.224\n",
       "CRIM          -0.0891      0.037     -2.423      0.016      -0.161      -0.017\n",
       "ZN             0.0288      0.013      2.220      0.027       0.003       0.054\n",
       "==============================================================================\n",
       "Omnibus:                      192.139   Durbin-Watson:                   0.812\n",
       "Prob(Omnibus):                  0.000   Jarque-Bera (JB):              832.155\n",
       "Skew:                           1.666   Prob(JB):                    1.99e-181\n",
       "Kurtosis:                       8.326   Cond. No.                     6.24e+03\n",
       "==============================================================================\n",
       "\n",
       "Warnings:\n",
       "[1] Standard Errors assume that the covariance matrix of the errors is correctly specified.\n",
       "[2] The condition number is large, 6.24e+03. This might indicate that there are\n",
       "strong multicollinearity or other numerical problems.\n",
       "\"\"\""
      ]
     },
     "execution_count": 52,
     "metadata": {},
     "output_type": "execute_result"
    }
   ],
   "source": [
    "# Set up our new statsmodel.formula handling model\n",
    "import statsmodels.formula.api as smf\n",
    "\n",
    "# You can easily swap these out to test multiple versions/different formulas\n",
    "formulas = {\n",
    "    \"case1\": \"MEDV ~ RM + LSTAT + RAD + TAX + NOX + INDUS + CRIM + ZN - 1\", # - 1 = remove intercept\n",
    "    \"case2\": \"MEDV ~ NOX + RM\",\n",
    "    \"case3\": \"MEDV ~ RAD + TAX\"\n",
    "}\n",
    "\n",
    "model = smf.ols(formula=formulas['case1'], data=df)\n",
    "result = model.fit()\n",
    "\n",
    "result.summary()"
   ]
  },
  {
   "cell_type": "markdown",
   "metadata": {},
   "source": [
    "### Bonus Challenge #1:\n",
    "\n",
    "Can you optimize your R2, selecting the best features and using either test-train split or k-folds?"
   ]
  },
  {
   "cell_type": "code",
   "execution_count": null,
   "metadata": {},
   "outputs": [],
   "source": []
  },
  {
   "cell_type": "markdown",
   "metadata": {},
   "source": [
    "### Bonus Challenge #2:\n",
    "\n",
    "Given a combination of predictors, can you find another response variable that can be accurately predicted through the exploration of different predictors in this data set?\n",
    "\n",
    "_Tip: Check out pairplots, coefficients, and Pearson scores._"
   ]
  },
  {
   "cell_type": "code",
   "execution_count": null,
   "metadata": {},
   "outputs": [],
   "source": [
    "# Check out variable relations\n",
    "import seaborn as sns\n",
    "\n",
    "sns.pairplot(X);"
   ]
  },
  {
   "cell_type": "code",
   "execution_count": null,
   "metadata": {},
   "outputs": [],
   "source": [
    "# Check out Pearson scores\n"
   ]
  },
  {
   "cell_type": "markdown",
   "metadata": {},
   "source": [
    "## Demo: Patsy"
   ]
  },
  {
   "cell_type": "code",
   "execution_count": 53,
   "metadata": {},
   "outputs": [],
   "source": [
    "import patsy\n",
    "\n",
    "# Add response to the core DataFrame\n",
    "df['MEDV'] = y"
   ]
  },
  {
   "cell_type": "code",
   "execution_count": 54,
   "metadata": {},
   "outputs": [
    {
     "name": "stderr",
     "output_type": "stream",
     "text": [
      "C:\\ProgramData\\Anaconda3\\lib\\site-packages\\sklearn\\model_selection\\_split.py:2179: FutureWarning: From version 0.21, test_size will always complement train_size unless both are specified.\n",
      "  FutureWarning)\n"
     ]
    }
   ],
   "source": [
    "from sklearn.model_selection import train_test_split #If you didn't import it earlier, do so now\n",
    "\n",
    "# Easily change your variable predictors without reslicing your DataFrame\n",
    "y, X = patsy.dmatrices(\"MEDV ~ AGE + RM\", data=df, return_type=\"dataframe\")\n",
    "\n",
    "X_train, X_test, y_train, y_test = train_test_split(X, y, train_size=.7)\n"
   ]
  },
  {
   "cell_type": "code",
   "execution_count": 55,
   "metadata": {},
   "outputs": [
    {
     "name": "stdout",
     "output_type": "stream",
     "text": [
      "R^2 Score: 0.03990079803645574\n"
     ]
    }
   ],
   "source": [
    "from sklearn import metrics\n",
    "from sklearn.linear_model import LinearRegression\n",
    "\n",
    "# Rerun your model, iteratively changing your variables and train_size from the previous cell\n",
    "\n",
    "lm = LinearRegression()\n",
    "model = lm.fit(X_train, y_train)\n",
    "\n",
    "predictions = model.predict(X_test)\n",
    "print(\"R^2 Score: {}\".format(metrics.r2_score(y_test, predictions)))"
   ]
  },
  {
   "cell_type": "code",
   "execution_count": null,
   "metadata": {},
   "outputs": [],
   "source": []
  },
  {
   "cell_type": "code",
   "execution_count": null,
   "metadata": {},
   "outputs": [],
   "source": []
  }
 ],
 "metadata": {
  "anaconda-cloud": {},
  "kernelspec": {
   "display_name": "Python 3",
   "language": "python",
   "name": "python3"
  },
  "language_info": {
   "codemirror_mode": {
    "name": "ipython",
    "version": 3
   },
   "file_extension": ".py",
   "mimetype": "text/x-python",
   "name": "python",
   "nbconvert_exporter": "python",
   "pygments_lexer": "ipython3",
   "version": "3.7.3"
  }
 },
 "nbformat": 4,
 "nbformat_minor": 1
}
